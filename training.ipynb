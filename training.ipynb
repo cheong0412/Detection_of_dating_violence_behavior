{
 "cells": [
  {
   "cell_type": "code",
   "execution_count": 47,
   "id": "de1eb631",
   "metadata": {},
   "outputs": [],
   "source": [
    "import cv2\n",
    "import pandas as pd\n",
    "import numpy as np\n",
    "import os\n",
    "import matplotlib.pyplot as plt\n",
    "from tqdm import tqdm\n",
    "import torch\n",
    "import torch.nn as nn\n",
    "import torch.optim as optim\n",
    "import torch.nn.functional as F\n",
    "from torch.utils.data import random_split\n",
    "from torchvision import transforms\n",
    "from torchinfo import summary\n",
    "from torch.utils.data import DataLoader, Dataset\n",
    "from torchmetrics import Accuracy\n",
    "from sklearn.metrics import f1_score, accuracy_score\n",
    "from models import LSTM\n",
    "from torchmetrics.classification import BinaryAccuracy, BinaryPrecision, BinaryRecall, BinaryF1Score"
   ]
  },
  {
   "cell_type": "code",
   "execution_count": 48,
   "id": "bb47ca13",
   "metadata": {},
   "outputs": [],
   "source": [
    "os.environ[\"CUDA_DEVICE_ORDER\"]=\"PCI_BUS_ID\"\n",
    "os.environ['CUDA_VISIBLE_DEVICES'] = '3'\n",
    "device = torch.device(\"cuda\" if torch.cuda.is_available() else \"cpu\")"
   ]
  },
  {
   "cell_type": "code",
   "execution_count": 49,
   "id": "0b5d9959",
   "metadata": {},
   "outputs": [
    {
     "name": "stdout",
     "output_type": "stream",
     "text": [
      "Device: cuda\n",
      "Current cuda device: 0\n",
      "Count of using GPUs: 1\n"
     ]
    }
   ],
   "source": [
    "print('Device:', device)\n",
    "print('Current cuda device:', torch.cuda.current_device())\n",
    "print('Count of using GPUs:', torch.cuda.device_count())"
   ]
  },
  {
   "cell_type": "code",
   "execution_count": 50,
   "id": "927b6a15",
   "metadata": {},
   "outputs": [],
   "source": [
    "def train(\n",
    "    model, train_loader, optimizer, criterion,\n",
    "    valid_loader=None, num_epochs=10\n",
    "):\n",
    "    history = {\n",
    "        'train_loss': [],\n",
    "        'train_accuracy': [],\n",
    "        'val_loss': [],\n",
    "        'val_accuracy': []\n",
    "    }\n",
    "\n",
    "    for epoch in tqdm(range(num_epochs)):\n",
    "        model.train()  # 학습 모드\n",
    "        total_loss = 0\n",
    "        train_acc_metric = BinaryAccuracy().to(device)\n",
    "\n",
    "        for data, target in train_loader:\n",
    "            data, target = data.to(device), target.unsqueeze(dim=1).float().to(device)\n",
    "            optimizer.zero_grad()\n",
    "            output = model(data)\n",
    "            loss = criterion(output, target)\n",
    "            loss.backward()\n",
    "            optimizer.step()\n",
    "            total_loss += loss.item()\n",
    "\n",
    "            prob = torch.sigmoid(output)\n",
    "            pred = (prob > 0.5).float()\n",
    "            train_acc_metric.update(pred, target)\n",
    "\n",
    "        train_avg_loss = total_loss / len(train_loader)\n",
    "        train_acc = train_acc_metric.compute().item()\n",
    "\n",
    "        history['train_loss'].append(train_avg_loss)\n",
    "        history['train_accuracy'].append(train_acc)\n",
    "\n",
    "        if valid_loader:\n",
    "            val_loss, _, _, val_acc = validate_model(model, valid_loader, criterion)\n",
    "            history['val_loss'].append(val_loss)\n",
    "            history['val_accuracy'].append(val_acc)\n",
    "\n",
    "            print(\n",
    "                f\"Epoch {epoch + 1}/{num_epochs} \"\n",
    "                f\"| Train Loss: {train_avg_loss:.4f}, Accuracy: {train_acc:.4f} \"\n",
    "                f\"| Val Loss: {val_loss:.4f}, Accuracy: {val_acc:.4f}\"\n",
    "            )\n",
    "        else:\n",
    "            print(\n",
    "                f\"Epoch {epoch + 1}/{num_epochs} \"\n",
    "                f\"| Train Loss: {train_avg_loss:.4f}, Accuracy: {train_acc:.4f}\"\n",
    "            )\n",
    "\n",
    "    return history\n",
    "\n",
    "\n",
    "def validate_model(model, test_loader, criterion):\n",
    "    model.eval()  # 모델을 평가 모드로 설정\n",
    "    total_loss = 0\n",
    "    actuals = []\n",
    "    predictions = []\n",
    "\n",
    "    test_acc_metric = BinaryAccuracy().to(device)\n",
    "\n",
    "    with torch.no_grad():  # 그라디언트 계산을 비활성화\n",
    "        for data, target in test_loader:\n",
    "            data, target = data.to(device), target.unsqueeze(dim=1).float().to(device)\n",
    "            output = model(data)\n",
    "            loss = criterion(output, target.view(-1, 1))\n",
    "            total_loss += loss.item()\n",
    "            \n",
    "            prob = torch.sigmoid(output)\n",
    "            pred = (prob > 0.5).float()\n",
    "            test_acc_metric.update(pred, target)\n",
    "\n",
    "            # 예측값과 실제값을 리스트에 저장\n",
    "            actuals.extend(target.squeeze(1).tolist())\n",
    "            predictions.extend(output.squeeze(1).tolist())\n",
    "\n",
    "    # 손실 계산\n",
    "    test_avg_loss = total_loss / len(test_loader)\n",
    "    test_acc = test_acc_metric.compute().item()\n",
    "\n",
    "    return test_avg_loss, actuals, predictions, test_acc"
   ]
  },
  {
   "cell_type": "code",
   "execution_count": 51,
   "id": "2b77f6b7",
   "metadata": {},
   "outputs": [],
   "source": [
    "dataset = 'pointsCSV'\n",
    "fight_train_video_names = os.listdir(f'./{dataset}/train/fight/')\n",
    "fight_val_video_names = os.listdir(f'./{dataset}/val/fight/')\n",
    "normal_train_video_names = os.listdir(f'./{dataset}/train/normal/')\n",
    "normal_val_video_names = os.listdir(f'./{dataset}/val/normal/')\n",
    "\n",
    "fight_train_csv_paths = list(map(lambda x:f'./{dataset}/train/fight/'+x, fight_train_video_names))\n",
    "fight_val_csv_paths = list(map(lambda x:f'./{dataset}/val/fight/'+x, fight_val_video_names))\n",
    "normal_train_csv_paths = list(map(lambda x:f'./{dataset}/train/normal/'+x, normal_train_video_names))\n",
    "normal_val_csv_paths = list(map(lambda x:f'./{dataset}/val/normal/'+x, normal_val_video_names))"
   ]
  },
  {
   "cell_type": "code",
   "execution_count": 52,
   "id": "a621ff5c",
   "metadata": {},
   "outputs": [
    {
     "data": {
      "text/plain": [
       "(630, 80, 809, 101)"
      ]
     },
     "execution_count": 52,
     "metadata": {},
     "output_type": "execute_result"
    }
   ],
   "source": [
    "len(fight_train_video_names), len(fight_val_video_names), len(normal_train_video_names), len(normal_val_video_names)"
   ]
  },
  {
   "cell_type": "code",
   "execution_count": 53,
   "id": "86901ebd",
   "metadata": {},
   "outputs": [
    {
     "data": {
      "text/plain": [
       "(630, 80, 809, 101)"
      ]
     },
     "execution_count": 53,
     "metadata": {},
     "output_type": "execute_result"
    }
   ],
   "source": [
    "len(fight_train_csv_paths), len(fight_val_csv_paths), len(normal_train_csv_paths), len(normal_val_csv_paths)"
   ]
  },
  {
   "cell_type": "code",
   "execution_count": 54,
   "id": "89762ce3",
   "metadata": {},
   "outputs": [
    {
     "name": "stdout",
     "output_type": "stream",
     "text": [
      "(180, 99)\n",
      "torch.Size([180, 33, 3])\n"
     ]
    }
   ],
   "source": [
    "# CSV 파일 경로\n",
    "csv_path = \"./pose_results_3fps.csv\"  # <- 여기에 경로 입력\n",
    "\n",
    "# CSV 파일 불러오기\n",
    "df = pd.read_csv(csv_path)\n",
    "\n",
    "# frame 열 제거\n",
    "data_only = df.drop(columns=['frame'])\n",
    "\n",
    "# numpy 배열로 변환\n",
    "data_array = data_only.values\n",
    "print(data_array.shape)\n",
    "\n",
    "# (num_frames, 33, 3) 형태로 변환\n",
    "num_keypoints = 33  # 33개의 키포인트\n",
    "reshaped = data_array.reshape(-1, num_keypoints, 3)\n",
    "\n",
    "# torch tensor로 변환\n",
    "tensor_data = torch.tensor(reshaped, dtype=torch.float32)\n",
    "\n",
    "print(tensor_data.shape)  # (num_frames, 33, 3)"
   ]
  },
  {
   "cell_type": "code",
   "execution_count": 55,
   "id": "fb43deb1",
   "metadata": {},
   "outputs": [
    {
     "name": "stdout",
     "output_type": "stream",
     "text": [
      "(181, 99)\n",
      "(181, 99)\n",
      "torch.Size([181, 22, 2])\n"
     ]
    }
   ],
   "source": [
    "# CSV 경로\n",
    "# csv_path = \"./pose_results_3fps.csv\"  # ← 파일 경로 입력\n",
    "csv_path = './pointsCSV_lite/train/fight/'\n",
    "\n",
    "# CSV 로드\n",
    "# df = pd.read_csv(csv_path)\n",
    "df = pd.read_csv(csv_path+os.listdir(csv_path)[0])\n",
    "\n",
    "# frame 열 제거\n",
    "data_only = df.drop(columns=['frame'])\n",
    "if 'video' in data_only.columns:\n",
    "    data_only = data_only.drop(columns=['video'])\n",
    "\n",
    "# numpy 배열로 변환\n",
    "data_array = data_only.values\n",
    "print(data_array.shape)\n",
    "\n",
    "# reshape to (num_frames, 33, 3)\n",
    "all_data = data_array.reshape(-1, 33, 3)  # 33 keypoints, 3 values (x, y, vis)\n",
    "\n",
    "# torch tensor로 변환\n",
    "tensor_data = torch.tensor(all_data, dtype=torch.float32)\n",
    "\n",
    "# 사용할 keypoint 인덱스: [0, 11~32]\n",
    "selected_indices = list(range(11, 33))\n",
    "\n",
    "# x 값만 추출 → shape: (num_frames, 23)\n",
    "x_only_selected = tensor_data[:, selected_indices, 0:2]\n",
    "\n",
    "print(data_array.shape)\n",
    "print(x_only_selected.shape)  # (num_frames, 23)"
   ]
  },
  {
   "cell_type": "code",
   "execution_count": 56,
   "id": "6db9f999",
   "metadata": {},
   "outputs": [],
   "source": [
    "def getKeypoints(csv_path):\n",
    "    df = pd.read_csv(csv_path)\n",
    "\n",
    "    # frame 열 제거\n",
    "    data_only = df.drop(columns=['frame'])\n",
    "    if 'video' in data_only.columns:\n",
    "        data_only = data_only.drop(columns=['video'])\n",
    "\n",
    "    # numpy 배열로 변환\n",
    "    data_array = data_only.values\n",
    "\n",
    "    # reshape to (num_frames, 33, 3)\n",
    "    all_data = data_array.reshape(-1, 33, 3)  # 33 keypoints, 3 values (x, y, vis)\n",
    "\n",
    "    # torch tensor로 변환\n",
    "    tensor_data = torch.tensor(all_data, dtype=torch.float32)\n",
    "\n",
    "    # 사용할 keypoint 인덱스: [0, 11~32]\n",
    "    selected_indices = list(range(11, 33))\n",
    "\n",
    "    # x 값만 추출 → shape: (num_frames, 23)\n",
    "    x_only_selected = tensor_data[:, selected_indices, 0:2]\n",
    "    x_only_selected\n",
    "\n",
    "    return x_only_selected.reshape([-1, 44])"
   ]
  },
  {
   "cell_type": "code",
   "execution_count": 57,
   "id": "1044f7a4",
   "metadata": {},
   "outputs": [
    {
     "data": {
      "text/plain": [
       "torch.Size([180, 44])"
      ]
     },
     "execution_count": 57,
     "metadata": {},
     "output_type": "execute_result"
    }
   ],
   "source": [
    "getKeypoints('./pose_results_3fps.csv').shape"
   ]
  },
  {
   "cell_type": "code",
   "execution_count": 58,
   "id": "2ef7348e",
   "metadata": {},
   "outputs": [],
   "source": [
    "class DS(Dataset):\n",
    "    def __init__(self, csv_path_list, label_list):\n",
    "        self.csv_path_list = csv_path_list\n",
    "        self.label_list = label_list\n",
    "        \n",
    "    def __getitem__(self, index):\n",
    "        points = getKeypoints(self.csv_path_list[index])\n",
    "        return points[:180, :], self.label_list[index]\n",
    "        \n",
    "    def __len__(self):\n",
    "        return len(self.csv_path_list)"
   ]
  },
  {
   "cell_type": "code",
   "execution_count": 59,
   "id": "8ffc73b7",
   "metadata": {},
   "outputs": [
    {
     "data": {
      "text/plain": [
       "500"
      ]
     },
     "execution_count": 59,
     "metadata": {},
     "output_type": "execute_result"
    }
   ],
   "source": [
    "len(fight_train_csv_paths[:500])"
   ]
  },
  {
   "cell_type": "code",
   "execution_count": 60,
   "id": "032508d1",
   "metadata": {},
   "outputs": [],
   "source": [
    "trainSet = DS(\n",
    "    fight_train_csv_paths[:630]+fight_val_csv_paths[:70]+normal_train_csv_paths[:700],\n",
    "    [ 1 for i in range(700)]+[ 0 for i in range(700)]\n",
    ")\n",
    "\n",
    "# valSet = DS(\n",
    "#     fight_val_csv_paths+normal_val_csv_paths,\n",
    "#     [ 1 for i in fight_val_csv_paths]+[ 0 for i in normal_val_csv_paths]\n",
    "# )\n",
    "\n",
    "trainSet, valSet, testSet = random_split(\n",
    "    trainSet,\n",
    "    [0.7, 0.2, 0.1],\n",
    "    torch.Generator().manual_seed(120)\n",
    "    )"
   ]
  },
  {
   "cell_type": "code",
   "execution_count": 61,
   "id": "a695a638",
   "metadata": {},
   "outputs": [
    {
     "data": {
      "text/plain": [
       "torch.Size([180, 44])"
      ]
     },
     "execution_count": 61,
     "metadata": {},
     "output_type": "execute_result"
    }
   ],
   "source": [
    "trainSet[0][0].shape"
   ]
  },
  {
   "cell_type": "code",
   "execution_count": 62,
   "id": "c90230d6",
   "metadata": {},
   "outputs": [
    {
     "data": {
      "text/plain": [
       "(980, 280, 140)"
      ]
     },
     "execution_count": 62,
     "metadata": {},
     "output_type": "execute_result"
    }
   ],
   "source": [
    "len(trainSet), len(valSet), len(testSet)"
   ]
  },
  {
   "cell_type": "code",
   "execution_count": 63,
   "id": "aea38c51",
   "metadata": {},
   "outputs": [],
   "source": [
    "BATCH_SIZE = 32\n",
    "train_loader = DataLoader(trainSet, batch_size = BATCH_SIZE, shuffle=True, drop_last=True)\n",
    "val_loader = DataLoader(valSet, batch_size = BATCH_SIZE, shuffle=False, drop_last=True )\n",
    "test_loader = DataLoader(testSet, batch_size = BATCH_SIZE, shuffle=False, drop_last=True )"
   ]
  },
  {
   "cell_type": "code",
   "execution_count": 64,
   "id": "12394fc4",
   "metadata": {},
   "outputs": [],
   "source": [
    "# for k, v in train_loader:\n",
    "    # print(v.dtype)"
   ]
  },
  {
   "cell_type": "code",
   "execution_count": 65,
   "id": "e8f3674b",
   "metadata": {},
   "outputs": [],
   "source": [
    "lstm = LSTM.LSTMmodel(44, 1, 128, 4, 0.3).to(device)\n",
    "optim = optim.Adam(lstm.parameters(), lr=0.0001)\n",
    "criterion = nn.BCEWithLogitsLoss()"
   ]
  },
  {
   "cell_type": "code",
   "execution_count": 66,
   "id": "55a37afc",
   "metadata": {},
   "outputs": [
    {
     "name": "stderr",
     "output_type": "stream",
     "text": [
      "  1%|          | 1/100 [00:12<21:20, 12.93s/it]"
     ]
    },
    {
     "name": "stdout",
     "output_type": "stream",
     "text": [
      "Epoch 1/100 | Train Loss: 0.6936, Accuracy: 0.5010 | Val Loss: 0.6926, Accuracy: 0.5039\n"
     ]
    },
    {
     "name": "stderr",
     "output_type": "stream",
     "text": [
      "  2%|▏         | 2/100 [00:25<20:54, 12.81s/it]"
     ]
    },
    {
     "name": "stdout",
     "output_type": "stream",
     "text": [
      "Epoch 2/100 | Train Loss: 0.6916, Accuracy: 0.5031 | Val Loss: 0.6887, Accuracy: 0.5039\n"
     ]
    },
    {
     "name": "stderr",
     "output_type": "stream",
     "text": [
      "  3%|▎         | 3/100 [00:38<20:38, 12.77s/it]"
     ]
    },
    {
     "name": "stdout",
     "output_type": "stream",
     "text": [
      "Epoch 3/100 | Train Loss: 0.6835, Accuracy: 0.5427 | Val Loss: 0.6709, Accuracy: 0.5977\n"
     ]
    },
    {
     "name": "stderr",
     "output_type": "stream",
     "text": [
      "  4%|▍         | 4/100 [00:51<20:21, 12.72s/it]"
     ]
    },
    {
     "name": "stdout",
     "output_type": "stream",
     "text": [
      "Epoch 4/100 | Train Loss: 0.6693, Accuracy: 0.5958 | Val Loss: 0.6642, Accuracy: 0.6172\n"
     ]
    },
    {
     "name": "stderr",
     "output_type": "stream",
     "text": [
      "  5%|▌         | 5/100 [01:03<20:07, 12.71s/it]"
     ]
    },
    {
     "name": "stdout",
     "output_type": "stream",
     "text": [
      "Epoch 5/100 | Train Loss: 0.6648, Accuracy: 0.6031 | Val Loss: 0.6551, Accuracy: 0.6172\n"
     ]
    },
    {
     "name": "stderr",
     "output_type": "stream",
     "text": [
      "  6%|▌         | 6/100 [01:17<20:17, 12.96s/it]"
     ]
    },
    {
     "name": "stdout",
     "output_type": "stream",
     "text": [
      "Epoch 6/100 | Train Loss: 0.6537, Accuracy: 0.6073 | Val Loss: 0.6458, Accuracy: 0.6133\n"
     ]
    },
    {
     "name": "stderr",
     "output_type": "stream",
     "text": [
      "  7%|▋         | 7/100 [01:29<19:38, 12.67s/it]"
     ]
    },
    {
     "name": "stdout",
     "output_type": "stream",
     "text": [
      "Epoch 7/100 | Train Loss: 0.6361, Accuracy: 0.6156 | Val Loss: 0.6234, Accuracy: 0.6484\n"
     ]
    },
    {
     "name": "stderr",
     "output_type": "stream",
     "text": [
      "  8%|▊         | 8/100 [01:42<19:33, 12.76s/it]"
     ]
    },
    {
     "name": "stdout",
     "output_type": "stream",
     "text": [
      "Epoch 8/100 | Train Loss: 0.6040, Accuracy: 0.6438 | Val Loss: 0.5899, Accuracy: 0.6641\n"
     ]
    },
    {
     "name": "stderr",
     "output_type": "stream",
     "text": [
      "  9%|▉         | 9/100 [01:55<19:32, 12.88s/it]"
     ]
    },
    {
     "name": "stdout",
     "output_type": "stream",
     "text": [
      "Epoch 9/100 | Train Loss: 0.5756, Accuracy: 0.7156 | Val Loss: 0.5838, Accuracy: 0.7422\n"
     ]
    },
    {
     "name": "stderr",
     "output_type": "stream",
     "text": [
      " 10%|█         | 10/100 [02:08<19:26, 12.96s/it]"
     ]
    },
    {
     "name": "stdout",
     "output_type": "stream",
     "text": [
      "Epoch 10/100 | Train Loss: 0.5502, Accuracy: 0.7469 | Val Loss: 0.5534, Accuracy: 0.7539\n"
     ]
    },
    {
     "name": "stderr",
     "output_type": "stream",
     "text": [
      " 11%|█         | 11/100 [02:21<19:11, 12.94s/it]"
     ]
    },
    {
     "name": "stdout",
     "output_type": "stream",
     "text": [
      "Epoch 11/100 | Train Loss: 0.5143, Accuracy: 0.7583 | Val Loss: 0.5558, Accuracy: 0.7383\n"
     ]
    },
    {
     "name": "stderr",
     "output_type": "stream",
     "text": [
      " 12%|█▏        | 12/100 [02:34<19:08, 13.05s/it]"
     ]
    },
    {
     "name": "stdout",
     "output_type": "stream",
     "text": [
      "Epoch 12/100 | Train Loss: 0.5357, Accuracy: 0.7271 | Val Loss: 0.5417, Accuracy: 0.7383\n"
     ]
    },
    {
     "name": "stderr",
     "output_type": "stream",
     "text": [
      " 13%|█▎        | 13/100 [02:47<19:02, 13.14s/it]"
     ]
    },
    {
     "name": "stdout",
     "output_type": "stream",
     "text": [
      "Epoch 13/100 | Train Loss: 0.4984, Accuracy: 0.7625 | Val Loss: 0.5203, Accuracy: 0.7539\n"
     ]
    },
    {
     "name": "stderr",
     "output_type": "stream",
     "text": [
      " 14%|█▍        | 14/100 [03:01<19:01, 13.27s/it]"
     ]
    },
    {
     "name": "stdout",
     "output_type": "stream",
     "text": [
      "Epoch 14/100 | Train Loss: 0.4517, Accuracy: 0.7729 | Val Loss: 0.4457, Accuracy: 0.8008\n"
     ]
    },
    {
     "name": "stderr",
     "output_type": "stream",
     "text": [
      " 15%|█▌        | 15/100 [03:13<18:24, 13.00s/it]"
     ]
    },
    {
     "name": "stdout",
     "output_type": "stream",
     "text": [
      "Epoch 15/100 | Train Loss: 0.4110, Accuracy: 0.7990 | Val Loss: 0.4430, Accuracy: 0.7773\n"
     ]
    },
    {
     "name": "stderr",
     "output_type": "stream",
     "text": [
      " 16%|█▌        | 16/100 [03:26<17:52, 12.76s/it]"
     ]
    },
    {
     "name": "stdout",
     "output_type": "stream",
     "text": [
      "Epoch 16/100 | Train Loss: 0.4806, Accuracy: 0.7417 | Val Loss: 0.5015, Accuracy: 0.7578\n"
     ]
    },
    {
     "name": "stderr",
     "output_type": "stream",
     "text": [
      " 17%|█▋        | 17/100 [03:37<17:10, 12.42s/it]"
     ]
    },
    {
     "name": "stdout",
     "output_type": "stream",
     "text": [
      "Epoch 17/100 | Train Loss: 0.4392, Accuracy: 0.7885 | Val Loss: 0.4836, Accuracy: 0.7578\n"
     ]
    },
    {
     "name": "stderr",
     "output_type": "stream",
     "text": [
      " 18%|█▊        | 18/100 [03:49<16:49, 12.31s/it]"
     ]
    },
    {
     "name": "stdout",
     "output_type": "stream",
     "text": [
      "Epoch 18/100 | Train Loss: 0.3930, Accuracy: 0.7990 | Val Loss: 0.3612, Accuracy: 0.8438\n"
     ]
    },
    {
     "name": "stderr",
     "output_type": "stream",
     "text": [
      " 19%|█▉        | 19/100 [04:01<16:19, 12.09s/it]"
     ]
    },
    {
     "name": "stdout",
     "output_type": "stream",
     "text": [
      "Epoch 19/100 | Train Loss: 0.4530, Accuracy: 0.7573 | Val Loss: 0.4439, Accuracy: 0.8086\n"
     ]
    },
    {
     "name": "stderr",
     "output_type": "stream",
     "text": [
      " 20%|██        | 20/100 [04:12<15:50, 11.88s/it]"
     ]
    },
    {
     "name": "stdout",
     "output_type": "stream",
     "text": [
      "Epoch 20/100 | Train Loss: 0.3892, Accuracy: 0.8062 | Val Loss: 0.4406, Accuracy: 0.7930\n"
     ]
    },
    {
     "name": "stderr",
     "output_type": "stream",
     "text": [
      " 21%|██        | 21/100 [04:24<15:29, 11.77s/it]"
     ]
    },
    {
     "name": "stdout",
     "output_type": "stream",
     "text": [
      "Epoch 21/100 | Train Loss: 0.3708, Accuracy: 0.8062 | Val Loss: 0.7635, Accuracy: 0.7461\n"
     ]
    },
    {
     "name": "stderr",
     "output_type": "stream",
     "text": [
      " 22%|██▏       | 22/100 [04:36<15:18, 11.77s/it]"
     ]
    },
    {
     "name": "stdout",
     "output_type": "stream",
     "text": [
      "Epoch 22/100 | Train Loss: 0.3946, Accuracy: 0.8135 | Val Loss: 0.3881, Accuracy: 0.8281\n"
     ]
    },
    {
     "name": "stderr",
     "output_type": "stream",
     "text": [
      " 23%|██▎       | 23/100 [04:47<15:05, 11.76s/it]"
     ]
    },
    {
     "name": "stdout",
     "output_type": "stream",
     "text": [
      "Epoch 23/100 | Train Loss: 0.3286, Accuracy: 0.8594 | Val Loss: 0.3925, Accuracy: 0.8672\n"
     ]
    },
    {
     "name": "stderr",
     "output_type": "stream",
     "text": [
      " 24%|██▍       | 24/100 [05:00<15:12, 12.01s/it]"
     ]
    },
    {
     "name": "stdout",
     "output_type": "stream",
     "text": [
      "Epoch 24/100 | Train Loss: 0.4136, Accuracy: 0.8167 | Val Loss: 0.4461, Accuracy: 0.7891\n"
     ]
    },
    {
     "name": "stderr",
     "output_type": "stream",
     "text": [
      " 25%|██▌       | 25/100 [05:12<15:09, 12.12s/it]"
     ]
    },
    {
     "name": "stdout",
     "output_type": "stream",
     "text": [
      "Epoch 25/100 | Train Loss: 0.3645, Accuracy: 0.8260 | Val Loss: 0.4917, Accuracy: 0.8047\n"
     ]
    },
    {
     "name": "stderr",
     "output_type": "stream",
     "text": [
      " 26%|██▌       | 26/100 [05:24<14:40, 11.89s/it]"
     ]
    },
    {
     "name": "stdout",
     "output_type": "stream",
     "text": [
      "Epoch 26/100 | Train Loss: 0.4073, Accuracy: 0.7906 | Val Loss: 0.4642, Accuracy: 0.7656\n"
     ]
    },
    {
     "name": "stderr",
     "output_type": "stream",
     "text": [
      " 27%|██▋       | 27/100 [05:35<14:10, 11.65s/it]"
     ]
    },
    {
     "name": "stdout",
     "output_type": "stream",
     "text": [
      "Epoch 27/100 | Train Loss: 0.3786, Accuracy: 0.8167 | Val Loss: 0.3976, Accuracy: 0.8281\n"
     ]
    },
    {
     "name": "stderr",
     "output_type": "stream",
     "text": [
      " 28%|██▊       | 28/100 [05:47<14:15, 11.88s/it]"
     ]
    },
    {
     "name": "stdout",
     "output_type": "stream",
     "text": [
      "Epoch 28/100 | Train Loss: 0.3485, Accuracy: 0.8375 | Val Loss: 0.3346, Accuracy: 0.8711\n"
     ]
    },
    {
     "name": "stderr",
     "output_type": "stream",
     "text": [
      " 29%|██▉       | 29/100 [06:00<14:20, 12.12s/it]"
     ]
    },
    {
     "name": "stdout",
     "output_type": "stream",
     "text": [
      "Epoch 29/100 | Train Loss: 0.5243, Accuracy: 0.8104 | Val Loss: 0.3321, Accuracy: 0.8828\n"
     ]
    },
    {
     "name": "stderr",
     "output_type": "stream",
     "text": [
      " 30%|███       | 30/100 [06:12<14:03, 12.05s/it]"
     ]
    },
    {
     "name": "stdout",
     "output_type": "stream",
     "text": [
      "Epoch 30/100 | Train Loss: 0.3179, Accuracy: 0.8625 | Val Loss: 0.3273, Accuracy: 0.8750\n"
     ]
    },
    {
     "name": "stderr",
     "output_type": "stream",
     "text": [
      " 31%|███       | 31/100 [06:25<14:09, 12.32s/it]"
     ]
    },
    {
     "name": "stdout",
     "output_type": "stream",
     "text": [
      "Epoch 31/100 | Train Loss: 0.2855, Accuracy: 0.8927 | Val Loss: 0.2888, Accuracy: 0.9023\n"
     ]
    },
    {
     "name": "stderr",
     "output_type": "stream",
     "text": [
      " 32%|███▏      | 32/100 [06:37<13:51, 12.22s/it]"
     ]
    },
    {
     "name": "stdout",
     "output_type": "stream",
     "text": [
      "Epoch 32/100 | Train Loss: 0.3417, Accuracy: 0.8708 | Val Loss: 1.4850, Accuracy: 0.5508\n"
     ]
    },
    {
     "name": "stderr",
     "output_type": "stream",
     "text": [
      " 33%|███▎      | 33/100 [06:49<13:42, 12.28s/it]"
     ]
    },
    {
     "name": "stdout",
     "output_type": "stream",
     "text": [
      "Epoch 33/100 | Train Loss: 0.7705, Accuracy: 0.7042 | Val Loss: 0.5153, Accuracy: 0.7734\n"
     ]
    },
    {
     "name": "stderr",
     "output_type": "stream",
     "text": [
      " 34%|███▍      | 34/100 [07:00<13:12, 12.01s/it]"
     ]
    },
    {
     "name": "stdout",
     "output_type": "stream",
     "text": [
      "Epoch 34/100 | Train Loss: 0.4176, Accuracy: 0.8094 | Val Loss: 0.3819, Accuracy: 0.8438\n"
     ]
    },
    {
     "name": "stderr",
     "output_type": "stream",
     "text": [
      " 35%|███▌      | 35/100 [07:13<13:02, 12.04s/it]"
     ]
    },
    {
     "name": "stdout",
     "output_type": "stream",
     "text": [
      "Epoch 35/100 | Train Loss: 0.3467, Accuracy: 0.8510 | Val Loss: 0.4031, Accuracy: 0.8203\n"
     ]
    },
    {
     "name": "stderr",
     "output_type": "stream",
     "text": [
      " 36%|███▌      | 36/100 [07:25<12:52, 12.07s/it]"
     ]
    },
    {
     "name": "stdout",
     "output_type": "stream",
     "text": [
      "Epoch 36/100 | Train Loss: 0.3118, Accuracy: 0.8635 | Val Loss: 0.3159, Accuracy: 0.8633\n"
     ]
    },
    {
     "name": "stderr",
     "output_type": "stream",
     "text": [
      " 37%|███▋      | 37/100 [07:37<12:35, 11.99s/it]"
     ]
    },
    {
     "name": "stdout",
     "output_type": "stream",
     "text": [
      "Epoch 37/100 | Train Loss: 0.2568, Accuracy: 0.8844 | Val Loss: 0.2511, Accuracy: 0.9102\n"
     ]
    },
    {
     "name": "stderr",
     "output_type": "stream",
     "text": [
      " 38%|███▊      | 38/100 [07:49<12:24, 12.00s/it]"
     ]
    },
    {
     "name": "stdout",
     "output_type": "stream",
     "text": [
      "Epoch 38/100 | Train Loss: 0.2575, Accuracy: 0.8958 | Val Loss: 0.2793, Accuracy: 0.9023\n"
     ]
    },
    {
     "name": "stderr",
     "output_type": "stream",
     "text": [
      " 39%|███▉      | 39/100 [08:00<11:55, 11.74s/it]"
     ]
    },
    {
     "name": "stdout",
     "output_type": "stream",
     "text": [
      "Epoch 39/100 | Train Loss: 0.2432, Accuracy: 0.9073 | Val Loss: 0.2277, Accuracy: 0.9219\n"
     ]
    },
    {
     "name": "stderr",
     "output_type": "stream",
     "text": [
      " 40%|████      | 40/100 [08:12<11:50, 11.84s/it]"
     ]
    },
    {
     "name": "stdout",
     "output_type": "stream",
     "text": [
      "Epoch 40/100 | Train Loss: 0.2149, Accuracy: 0.9250 | Val Loss: 0.2466, Accuracy: 0.9180\n"
     ]
    },
    {
     "name": "stderr",
     "output_type": "stream",
     "text": [
      " 41%|████      | 41/100 [08:23<11:21, 11.55s/it]"
     ]
    },
    {
     "name": "stdout",
     "output_type": "stream",
     "text": [
      "Epoch 41/100 | Train Loss: 0.2317, Accuracy: 0.9177 | Val Loss: 0.2709, Accuracy: 0.9023\n"
     ]
    },
    {
     "name": "stderr",
     "output_type": "stream",
     "text": [
      " 42%|████▏     | 42/100 [08:34<11:02, 11.43s/it]"
     ]
    },
    {
     "name": "stdout",
     "output_type": "stream",
     "text": [
      "Epoch 42/100 | Train Loss: 0.2276, Accuracy: 0.9177 | Val Loss: 0.2446, Accuracy: 0.9219\n"
     ]
    },
    {
     "name": "stderr",
     "output_type": "stream",
     "text": [
      " 43%|████▎     | 43/100 [08:45<10:56, 11.52s/it]"
     ]
    },
    {
     "name": "stdout",
     "output_type": "stream",
     "text": [
      "Epoch 43/100 | Train Loss: 0.2097, Accuracy: 0.9260 | Val Loss: 0.2245, Accuracy: 0.9258\n"
     ]
    },
    {
     "name": "stderr",
     "output_type": "stream",
     "text": [
      " 44%|████▍     | 44/100 [08:57<10:43, 11.50s/it]"
     ]
    },
    {
     "name": "stdout",
     "output_type": "stream",
     "text": [
      "Epoch 44/100 | Train Loss: 0.1956, Accuracy: 0.9281 | Val Loss: 0.2048, Accuracy: 0.9336\n"
     ]
    },
    {
     "name": "stderr",
     "output_type": "stream",
     "text": [
      " 45%|████▌     | 45/100 [09:08<10:31, 11.49s/it]"
     ]
    },
    {
     "name": "stdout",
     "output_type": "stream",
     "text": [
      "Epoch 45/100 | Train Loss: 0.2023, Accuracy: 0.9229 | Val Loss: 0.2144, Accuracy: 0.9102\n"
     ]
    },
    {
     "name": "stderr",
     "output_type": "stream",
     "text": [
      " 46%|████▌     | 46/100 [09:20<10:24, 11.56s/it]"
     ]
    },
    {
     "name": "stdout",
     "output_type": "stream",
     "text": [
      "Epoch 46/100 | Train Loss: 0.1841, Accuracy: 0.9292 | Val Loss: 0.1912, Accuracy: 0.9297\n"
     ]
    },
    {
     "name": "stderr",
     "output_type": "stream",
     "text": [
      " 47%|████▋     | 47/100 [09:31<10:04, 11.40s/it]"
     ]
    },
    {
     "name": "stdout",
     "output_type": "stream",
     "text": [
      "Epoch 47/100 | Train Loss: 0.1751, Accuracy: 0.9365 | Val Loss: 0.1943, Accuracy: 0.9258\n"
     ]
    },
    {
     "name": "stderr",
     "output_type": "stream",
     "text": [
      " 48%|████▊     | 48/100 [09:43<09:57, 11.50s/it]"
     ]
    },
    {
     "name": "stdout",
     "output_type": "stream",
     "text": [
      "Epoch 48/100 | Train Loss: 0.1819, Accuracy: 0.9302 | Val Loss: 0.1904, Accuracy: 0.9297\n"
     ]
    },
    {
     "name": "stderr",
     "output_type": "stream",
     "text": [
      " 49%|████▉     | 49/100 [09:55<09:54, 11.65s/it]"
     ]
    },
    {
     "name": "stdout",
     "output_type": "stream",
     "text": [
      "Epoch 49/100 | Train Loss: 0.1755, Accuracy: 0.9333 | Val Loss: 0.2101, Accuracy: 0.9258\n"
     ]
    },
    {
     "name": "stderr",
     "output_type": "stream",
     "text": [
      " 50%|█████     | 50/100 [10:06<09:38, 11.57s/it]"
     ]
    },
    {
     "name": "stdout",
     "output_type": "stream",
     "text": [
      "Epoch 50/100 | Train Loss: 0.1863, Accuracy: 0.9333 | Val Loss: 0.2178, Accuracy: 0.9258\n"
     ]
    },
    {
     "name": "stderr",
     "output_type": "stream",
     "text": [
      " 51%|█████     | 51/100 [10:17<09:18, 11.40s/it]"
     ]
    },
    {
     "name": "stdout",
     "output_type": "stream",
     "text": [
      "Epoch 51/100 | Train Loss: 0.1688, Accuracy: 0.9323 | Val Loss: 0.1927, Accuracy: 0.9375\n"
     ]
    },
    {
     "name": "stderr",
     "output_type": "stream",
     "text": [
      " 52%|█████▏    | 52/100 [10:29<09:09, 11.45s/it]"
     ]
    },
    {
     "name": "stdout",
     "output_type": "stream",
     "text": [
      "Epoch 52/100 | Train Loss: 0.1594, Accuracy: 0.9396 | Val Loss: 0.2003, Accuracy: 0.9336\n"
     ]
    },
    {
     "name": "stderr",
     "output_type": "stream",
     "text": [
      " 53%|█████▎    | 53/100 [10:40<08:57, 11.44s/it]"
     ]
    },
    {
     "name": "stdout",
     "output_type": "stream",
     "text": [
      "Epoch 53/100 | Train Loss: 0.1752, Accuracy: 0.9385 | Val Loss: 0.1956, Accuracy: 0.9375\n"
     ]
    },
    {
     "name": "stderr",
     "output_type": "stream",
     "text": [
      " 54%|█████▍    | 54/100 [10:53<08:58, 11.71s/it]"
     ]
    },
    {
     "name": "stdout",
     "output_type": "stream",
     "text": [
      "Epoch 54/100 | Train Loss: 0.1713, Accuracy: 0.9354 | Val Loss: 0.1820, Accuracy: 0.9453\n"
     ]
    },
    {
     "name": "stderr",
     "output_type": "stream",
     "text": [
      " 55%|█████▌    | 55/100 [11:04<08:44, 11.66s/it]"
     ]
    },
    {
     "name": "stdout",
     "output_type": "stream",
     "text": [
      "Epoch 55/100 | Train Loss: 0.1611, Accuracy: 0.9385 | Val Loss: 0.1830, Accuracy: 0.9336\n"
     ]
    },
    {
     "name": "stderr",
     "output_type": "stream",
     "text": [
      " 56%|█████▌    | 56/100 [11:16<08:38, 11.77s/it]"
     ]
    },
    {
     "name": "stdout",
     "output_type": "stream",
     "text": [
      "Epoch 56/100 | Train Loss: 0.1834, Accuracy: 0.9271 | Val Loss: 0.2020, Accuracy: 0.9258\n"
     ]
    },
    {
     "name": "stderr",
     "output_type": "stream",
     "text": [
      " 57%|█████▋    | 57/100 [11:28<08:22, 11.69s/it]"
     ]
    },
    {
     "name": "stdout",
     "output_type": "stream",
     "text": [
      "Epoch 57/100 | Train Loss: 0.1590, Accuracy: 0.9469 | Val Loss: 0.2006, Accuracy: 0.9375\n"
     ]
    },
    {
     "name": "stderr",
     "output_type": "stream",
     "text": [
      " 58%|█████▊    | 58/100 [11:39<08:12, 11.72s/it]"
     ]
    },
    {
     "name": "stdout",
     "output_type": "stream",
     "text": [
      "Epoch 58/100 | Train Loss: 0.1489, Accuracy: 0.9510 | Val Loss: 0.2012, Accuracy: 0.9336\n"
     ]
    },
    {
     "name": "stderr",
     "output_type": "stream",
     "text": [
      " 59%|█████▉    | 59/100 [11:51<08:00, 11.71s/it]"
     ]
    },
    {
     "name": "stdout",
     "output_type": "stream",
     "text": [
      "Epoch 59/100 | Train Loss: 0.2235, Accuracy: 0.9208 | Val Loss: 0.2382, Accuracy: 0.9141\n"
     ]
    },
    {
     "name": "stderr",
     "output_type": "stream",
     "text": [
      " 60%|██████    | 60/100 [12:03<07:48, 11.70s/it]"
     ]
    },
    {
     "name": "stdout",
     "output_type": "stream",
     "text": [
      "Epoch 60/100 | Train Loss: 0.1480, Accuracy: 0.9490 | Val Loss: 0.2145, Accuracy: 0.9297\n"
     ]
    },
    {
     "name": "stderr",
     "output_type": "stream",
     "text": [
      " 61%|██████    | 61/100 [12:15<07:40, 11.80s/it]"
     ]
    },
    {
     "name": "stdout",
     "output_type": "stream",
     "text": [
      "Epoch 61/100 | Train Loss: 0.1469, Accuracy: 0.9438 | Val Loss: 0.1746, Accuracy: 0.9492\n"
     ]
    },
    {
     "name": "stderr",
     "output_type": "stream",
     "text": [
      " 62%|██████▏   | 62/100 [12:27<07:36, 12.02s/it]"
     ]
    },
    {
     "name": "stdout",
     "output_type": "stream",
     "text": [
      "Epoch 62/100 | Train Loss: 0.1402, Accuracy: 0.9458 | Val Loss: 0.1773, Accuracy: 0.9336\n"
     ]
    },
    {
     "name": "stderr",
     "output_type": "stream",
     "text": [
      " 63%|██████▎   | 63/100 [12:40<07:27, 12.10s/it]"
     ]
    },
    {
     "name": "stdout",
     "output_type": "stream",
     "text": [
      "Epoch 63/100 | Train Loss: 0.2785, Accuracy: 0.9167 | Val Loss: 0.1559, Accuracy: 0.9531\n"
     ]
    },
    {
     "name": "stderr",
     "output_type": "stream",
     "text": [
      " 64%|██████▍   | 64/100 [12:52<07:17, 12.15s/it]"
     ]
    },
    {
     "name": "stdout",
     "output_type": "stream",
     "text": [
      "Epoch 64/100 | Train Loss: 0.2155, Accuracy: 0.9156 | Val Loss: 0.3279, Accuracy: 0.8633\n"
     ]
    },
    {
     "name": "stderr",
     "output_type": "stream",
     "text": [
      " 65%|██████▌   | 65/100 [13:05<07:15, 12.44s/it]"
     ]
    },
    {
     "name": "stdout",
     "output_type": "stream",
     "text": [
      "Epoch 65/100 | Train Loss: 0.2400, Accuracy: 0.8958 | Val Loss: 0.2353, Accuracy: 0.9141\n"
     ]
    },
    {
     "name": "stderr",
     "output_type": "stream",
     "text": [
      " 66%|██████▌   | 66/100 [13:21<07:38, 13.48s/it]"
     ]
    },
    {
     "name": "stdout",
     "output_type": "stream",
     "text": [
      "Epoch 66/100 | Train Loss: 0.1696, Accuracy: 0.9375 | Val Loss: 0.1888, Accuracy: 0.9375\n"
     ]
    },
    {
     "name": "stderr",
     "output_type": "stream",
     "text": [
      " 67%|██████▋   | 67/100 [14:05<12:22, 22.51s/it]"
     ]
    },
    {
     "name": "stdout",
     "output_type": "stream",
     "text": [
      "Epoch 67/100 | Train Loss: 0.1265, Accuracy: 0.9646 | Val Loss: 0.1595, Accuracy: 0.9609\n"
     ]
    },
    {
     "name": "stderr",
     "output_type": "stream",
     "text": [
      " 68%|██████▊   | 68/100 [14:47<15:07, 28.36s/it]"
     ]
    },
    {
     "name": "stdout",
     "output_type": "stream",
     "text": [
      "Epoch 68/100 | Train Loss: 0.1699, Accuracy: 0.9427 | Val Loss: 0.1608, Accuracy: 0.9453\n"
     ]
    },
    {
     "name": "stderr",
     "output_type": "stream",
     "text": [
      " 69%|██████▉   | 69/100 [15:27<16:31, 31.99s/it]"
     ]
    },
    {
     "name": "stdout",
     "output_type": "stream",
     "text": [
      "Epoch 69/100 | Train Loss: 0.1376, Accuracy: 0.9594 | Val Loss: 0.1568, Accuracy: 0.9492\n"
     ]
    },
    {
     "name": "stderr",
     "output_type": "stream",
     "text": [
      " 70%|███████   | 70/100 [16:09<17:31, 35.03s/it]"
     ]
    },
    {
     "name": "stdout",
     "output_type": "stream",
     "text": [
      "Epoch 70/100 | Train Loss: 0.1433, Accuracy: 0.9500 | Val Loss: 0.2732, Accuracy: 0.8906\n"
     ]
    },
    {
     "name": "stderr",
     "output_type": "stream",
     "text": [
      " 71%|███████   | 71/100 [16:52<18:03, 37.38s/it]"
     ]
    },
    {
     "name": "stdout",
     "output_type": "stream",
     "text": [
      "Epoch 71/100 | Train Loss: 0.1773, Accuracy: 0.9323 | Val Loss: 0.2014, Accuracy: 0.9141\n"
     ]
    },
    {
     "name": "stderr",
     "output_type": "stream",
     "text": [
      " 72%|███████▏  | 72/100 [17:32<17:50, 38.24s/it]"
     ]
    },
    {
     "name": "stdout",
     "output_type": "stream",
     "text": [
      "Epoch 72/100 | Train Loss: 0.1702, Accuracy: 0.9312 | Val Loss: 0.2062, Accuracy: 0.9258\n"
     ]
    },
    {
     "name": "stderr",
     "output_type": "stream",
     "text": [
      " 73%|███████▎  | 73/100 [18:07<16:40, 37.05s/it]"
     ]
    },
    {
     "name": "stdout",
     "output_type": "stream",
     "text": [
      "Epoch 73/100 | Train Loss: 0.1414, Accuracy: 0.9521 | Val Loss: 0.1544, Accuracy: 0.9570\n"
     ]
    },
    {
     "name": "stderr",
     "output_type": "stream",
     "text": [
      " 74%|███████▍  | 74/100 [18:37<15:15, 35.20s/it]"
     ]
    },
    {
     "name": "stdout",
     "output_type": "stream",
     "text": [
      "Epoch 74/100 | Train Loss: 0.1129, Accuracy: 0.9604 | Val Loss: 0.1580, Accuracy: 0.9570\n"
     ]
    },
    {
     "name": "stderr",
     "output_type": "stream",
     "text": [
      " 75%|███████▌  | 75/100 [19:10<14:23, 34.56s/it]"
     ]
    },
    {
     "name": "stdout",
     "output_type": "stream",
     "text": [
      "Epoch 75/100 | Train Loss: 0.1046, Accuracy: 0.9604 | Val Loss: 0.1507, Accuracy: 0.9531\n"
     ]
    },
    {
     "name": "stderr",
     "output_type": "stream",
     "text": [
      " 76%|███████▌  | 76/100 [19:42<13:26, 33.59s/it]"
     ]
    },
    {
     "name": "stdout",
     "output_type": "stream",
     "text": [
      "Epoch 76/100 | Train Loss: 0.3047, Accuracy: 0.8635 | Val Loss: 0.3057, Accuracy: 0.8633\n"
     ]
    },
    {
     "name": "stderr",
     "output_type": "stream",
     "text": [
      " 77%|███████▋  | 77/100 [20:13<12:36, 32.87s/it]"
     ]
    },
    {
     "name": "stdout",
     "output_type": "stream",
     "text": [
      "Epoch 77/100 | Train Loss: 0.2130, Accuracy: 0.9062 | Val Loss: 0.2546, Accuracy: 0.9062\n"
     ]
    },
    {
     "name": "stderr",
     "output_type": "stream",
     "text": [
      " 78%|███████▊  | 78/100 [20:43<11:44, 32.02s/it]"
     ]
    },
    {
     "name": "stdout",
     "output_type": "stream",
     "text": [
      "Epoch 78/100 | Train Loss: 0.1613, Accuracy: 0.9323 | Val Loss: 0.2030, Accuracy: 0.9375\n"
     ]
    },
    {
     "name": "stderr",
     "output_type": "stream",
     "text": [
      " 79%|███████▉  | 79/100 [21:14<11:03, 31.58s/it]"
     ]
    },
    {
     "name": "stdout",
     "output_type": "stream",
     "text": [
      "Epoch 79/100 | Train Loss: 0.1438, Accuracy: 0.9458 | Val Loss: 0.2082, Accuracy: 0.9297\n"
     ]
    },
    {
     "name": "stderr",
     "output_type": "stream",
     "text": [
      " 80%|████████  | 80/100 [21:32<09:13, 27.68s/it]"
     ]
    },
    {
     "name": "stdout",
     "output_type": "stream",
     "text": [
      "Epoch 80/100 | Train Loss: 0.1234, Accuracy: 0.9573 | Val Loss: 0.1639, Accuracy: 0.9492\n"
     ]
    },
    {
     "name": "stderr",
     "output_type": "stream",
     "text": [
      " 81%|████████  | 81/100 [21:45<07:22, 23.27s/it]"
     ]
    },
    {
     "name": "stdout",
     "output_type": "stream",
     "text": [
      "Epoch 81/100 | Train Loss: 0.1072, Accuracy: 0.9604 | Val Loss: 0.1518, Accuracy: 0.9492\n"
     ]
    },
    {
     "name": "stderr",
     "output_type": "stream",
     "text": [
      " 82%|████████▏ | 82/100 [21:58<06:02, 20.12s/it]"
     ]
    },
    {
     "name": "stdout",
     "output_type": "stream",
     "text": [
      "Epoch 82/100 | Train Loss: 0.1164, Accuracy: 0.9625 | Val Loss: 0.1848, Accuracy: 0.9375\n"
     ]
    },
    {
     "name": "stderr",
     "output_type": "stream",
     "text": [
      " 83%|████████▎ | 83/100 [22:10<05:00, 17.70s/it]"
     ]
    },
    {
     "name": "stdout",
     "output_type": "stream",
     "text": [
      "Epoch 83/100 | Train Loss: 0.1049, Accuracy: 0.9667 | Val Loss: 0.1207, Accuracy: 0.9609\n"
     ]
    },
    {
     "name": "stderr",
     "output_type": "stream",
     "text": [
      " 84%|████████▍ | 84/100 [22:23<04:19, 16.19s/it]"
     ]
    },
    {
     "name": "stdout",
     "output_type": "stream",
     "text": [
      "Epoch 84/100 | Train Loss: 0.0791, Accuracy: 0.9729 | Val Loss: 0.1157, Accuracy: 0.9688\n"
     ]
    },
    {
     "name": "stderr",
     "output_type": "stream",
     "text": [
      " 85%|████████▌ | 85/100 [22:34<03:43, 14.87s/it]"
     ]
    },
    {
     "name": "stdout",
     "output_type": "stream",
     "text": [
      "Epoch 85/100 | Train Loss: 0.0744, Accuracy: 0.9781 | Val Loss: 0.1098, Accuracy: 0.9688\n"
     ]
    },
    {
     "name": "stderr",
     "output_type": "stream",
     "text": [
      " 86%|████████▌ | 86/100 [22:47<03:19, 14.22s/it]"
     ]
    },
    {
     "name": "stdout",
     "output_type": "stream",
     "text": [
      "Epoch 86/100 | Train Loss: 0.0658, Accuracy: 0.9740 | Val Loss: 0.0930, Accuracy: 0.9766\n"
     ]
    },
    {
     "name": "stderr",
     "output_type": "stream",
     "text": [
      " 87%|████████▋ | 87/100 [22:59<02:56, 13.59s/it]"
     ]
    },
    {
     "name": "stdout",
     "output_type": "stream",
     "text": [
      "Epoch 87/100 | Train Loss: 0.0709, Accuracy: 0.9802 | Val Loss: 0.1083, Accuracy: 0.9648\n"
     ]
    },
    {
     "name": "stderr",
     "output_type": "stream",
     "text": [
      " 88%|████████▊ | 88/100 [23:12<02:38, 13.19s/it]"
     ]
    },
    {
     "name": "stdout",
     "output_type": "stream",
     "text": [
      "Epoch 88/100 | Train Loss: 0.0681, Accuracy: 0.9781 | Val Loss: 0.1014, Accuracy: 0.9727\n"
     ]
    },
    {
     "name": "stderr",
     "output_type": "stream",
     "text": [
      " 89%|████████▉ | 89/100 [23:24<02:22, 13.00s/it]"
     ]
    },
    {
     "name": "stdout",
     "output_type": "stream",
     "text": [
      "Epoch 89/100 | Train Loss: 0.0725, Accuracy: 0.9760 | Val Loss: 0.1191, Accuracy: 0.9609\n"
     ]
    },
    {
     "name": "stderr",
     "output_type": "stream",
     "text": [
      " 90%|█████████ | 90/100 [23:36<02:07, 12.79s/it]"
     ]
    },
    {
     "name": "stdout",
     "output_type": "stream",
     "text": [
      "Epoch 90/100 | Train Loss: 0.0680, Accuracy: 0.9771 | Val Loss: 0.0971, Accuracy: 0.9727\n"
     ]
    },
    {
     "name": "stderr",
     "output_type": "stream",
     "text": [
      " 91%|█████████ | 91/100 [23:49<01:54, 12.67s/it]"
     ]
    },
    {
     "name": "stdout",
     "output_type": "stream",
     "text": [
      "Epoch 91/100 | Train Loss: 0.1052, Accuracy: 0.9677 | Val Loss: 0.1349, Accuracy: 0.9492\n"
     ]
    },
    {
     "name": "stderr",
     "output_type": "stream",
     "text": [
      " 92%|█████████▏| 92/100 [24:02<01:43, 12.98s/it]"
     ]
    },
    {
     "name": "stdout",
     "output_type": "stream",
     "text": [
      "Epoch 92/100 | Train Loss: 0.0869, Accuracy: 0.9750 | Val Loss: 0.1111, Accuracy: 0.9609\n"
     ]
    },
    {
     "name": "stderr",
     "output_type": "stream",
     "text": [
      " 93%|█████████▎| 93/100 [24:13<01:25, 12.16s/it]"
     ]
    },
    {
     "name": "stdout",
     "output_type": "stream",
     "text": [
      "Epoch 93/100 | Train Loss: 0.0707, Accuracy: 0.9802 | Val Loss: 0.1062, Accuracy: 0.9648\n"
     ]
    },
    {
     "name": "stderr",
     "output_type": "stream",
     "text": [
      " 94%|█████████▍| 94/100 [24:21<01:06, 11.05s/it]"
     ]
    },
    {
     "name": "stdout",
     "output_type": "stream",
     "text": [
      "Epoch 94/100 | Train Loss: 0.0686, Accuracy: 0.9771 | Val Loss: 0.1099, Accuracy: 0.9648\n"
     ]
    },
    {
     "name": "stderr",
     "output_type": "stream",
     "text": [
      " 95%|█████████▌| 95/100 [24:30<00:51, 10.27s/it]"
     ]
    },
    {
     "name": "stdout",
     "output_type": "stream",
     "text": [
      "Epoch 95/100 | Train Loss: 0.0586, Accuracy: 0.9812 | Val Loss: 0.1108, Accuracy: 0.9609\n"
     ]
    },
    {
     "name": "stderr",
     "output_type": "stream",
     "text": [
      " 96%|█████████▌| 96/100 [24:38<00:38,  9.75s/it]"
     ]
    },
    {
     "name": "stdout",
     "output_type": "stream",
     "text": [
      "Epoch 96/100 | Train Loss: 0.0551, Accuracy: 0.9833 | Val Loss: 0.1215, Accuracy: 0.9570\n"
     ]
    },
    {
     "name": "stderr",
     "output_type": "stream",
     "text": [
      " 97%|█████████▋| 97/100 [24:47<00:28,  9.38s/it]"
     ]
    },
    {
     "name": "stdout",
     "output_type": "stream",
     "text": [
      "Epoch 97/100 | Train Loss: 0.0677, Accuracy: 0.9792 | Val Loss: 0.1242, Accuracy: 0.9570\n"
     ]
    },
    {
     "name": "stderr",
     "output_type": "stream",
     "text": [
      " 98%|█████████▊| 98/100 [24:55<00:18,  9.08s/it]"
     ]
    },
    {
     "name": "stdout",
     "output_type": "stream",
     "text": [
      "Epoch 98/100 | Train Loss: 0.0632, Accuracy: 0.9792 | Val Loss: 0.1473, Accuracy: 0.9531\n"
     ]
    },
    {
     "name": "stderr",
     "output_type": "stream",
     "text": [
      " 99%|█████████▉| 99/100 [25:03<00:08,  8.85s/it]"
     ]
    },
    {
     "name": "stdout",
     "output_type": "stream",
     "text": [
      "Epoch 99/100 | Train Loss: 0.0615, Accuracy: 0.9771 | Val Loss: 0.1246, Accuracy: 0.9531\n"
     ]
    },
    {
     "name": "stderr",
     "output_type": "stream",
     "text": [
      "100%|██████████| 100/100 [25:12<00:00, 15.12s/it]"
     ]
    },
    {
     "name": "stdout",
     "output_type": "stream",
     "text": [
      "Epoch 100/100 | Train Loss: 0.0557, Accuracy: 0.9792 | Val Loss: 0.1187, Accuracy: 0.9570\n"
     ]
    },
    {
     "name": "stderr",
     "output_type": "stream",
     "text": [
      "\n"
     ]
    }
   ],
   "source": [
    "history = train(lstm, train_loader, optim, criterion, val_loader, 100)"
   ]
  },
  {
   "cell_type": "code",
   "execution_count": 67,
   "id": "a705cf7c",
   "metadata": {},
   "outputs": [],
   "source": [
    "result_train = validate_model(lstm, train_loader, criterion)\n",
    "result_val = validate_model(lstm, val_loader, criterion)\n",
    "result_test = validate_model(lstm, test_loader, criterion)"
   ]
  },
  {
   "cell_type": "code",
   "execution_count": 68,
   "id": "d26bb654",
   "metadata": {},
   "outputs": [],
   "source": [
    "from sklearn.metrics import accuracy_score, precision_score, recall_score, f1_score\n",
    "\n",
    "def evaluation_model(result):\n",
    "    # 1) actuals, predictions는 리스트 형태이므로 numpy array로 변환\n",
    "    y_true = np.array(result[1])             # ex) [0., 1., 1., 0., ...]\n",
    "    logits = np.array(result[2])         # ex) [ 2.3, -0.5, 0.8, ... ]\n",
    "\n",
    "    # 2) 로짓 → 확률로 변환 (sigmoid)\n",
    "    probs = 1 / (1 + np.exp(-logits))      # shape: (n_samples,)\n",
    "\n",
    "    # 3) 확률 → 이진 예측 (threshold = 0.5)\n",
    "    y_pred = (probs >= 0.5).astype(int)     # 0 또는 1\n",
    "\n",
    "    # 4) 정수형 actuals\n",
    "    y_true_int = y_true.astype(int)\n",
    "\n",
    "    # 5) sklearn으로 지표 계산\n",
    "    acc  = accuracy_score(y_true_int, y_pred)\n",
    "    prec = precision_score(y_true_int, y_pred)\n",
    "    rec  = recall_score(y_true_int, y_pred)\n",
    "    f1   = f1_score(y_true_int, y_pred)\n",
    "\n",
    "    print(f\"Accuracy : {acc:.4f}\")\n",
    "    print(f\"Precision: {prec:.4f}\")\n",
    "    print(f\"Recall   : {rec:.4f}\")\n",
    "    print(f\"F1-score : {f1:.4f}\")\n",
    "\n"
   ]
  },
  {
   "cell_type": "code",
   "execution_count": 69,
   "id": "08366100",
   "metadata": {},
   "outputs": [
    {
     "name": "stdout",
     "output_type": "stream",
     "text": [
      "Train set\n",
      "Accuracy : 0.9854\n",
      "Precision: 0.9874\n",
      "Recall   : 0.9833\n",
      "F1-score : 0.9854\n",
      "Validation set\n",
      "Accuracy : 0.9570\n",
      "Precision: 0.9603\n",
      "Recall   : 0.9528\n",
      "F1-score : 0.9565\n",
      "Test set\n",
      "Accuracy : 0.9688\n",
      "Precision: 0.9706\n",
      "Recall   : 0.9706\n",
      "F1-score : 0.9706\n"
     ]
    }
   ],
   "source": [
    "print('Train set')\n",
    "evaluation_model(result_train)\n",
    "print('Validation set')\n",
    "evaluation_model(result_val)\n",
    "print('Test set')\n",
    "evaluation_model(result_test)"
   ]
  },
  {
   "cell_type": "code",
   "execution_count": 70,
   "id": "88b875b1",
   "metadata": {},
   "outputs": [
    {
     "data": {
      "text/plain": [
       "torch.Size([180, 44])"
      ]
     },
     "execution_count": 70,
     "metadata": {},
     "output_type": "execute_result"
    }
   ],
   "source": [
    "sample_csv = getKeypoints('./pose_results_3fps.csv')\n",
    "sample_csv.shape"
   ]
  },
  {
   "cell_type": "code",
   "execution_count": 71,
   "id": "1070dac1",
   "metadata": {},
   "outputs": [],
   "source": [
    "sample_result_lstm = lstm(sample_csv.unsqueeze(dim=0).to(device))"
   ]
  },
  {
   "cell_type": "code",
   "execution_count": 72,
   "id": "ad8020d5",
   "metadata": {},
   "outputs": [
    {
     "data": {
      "text/plain": [
       "torch.Tensor"
      ]
     },
     "execution_count": 72,
     "metadata": {},
     "output_type": "execute_result"
    }
   ],
   "source": [
    "type(sample_result_lstm)"
   ]
  },
  {
   "cell_type": "code",
   "execution_count": 73,
   "id": "236aecc7",
   "metadata": {},
   "outputs": [
    {
     "data": {
      "text/plain": [
       "0.9849376821151861"
      ]
     },
     "execution_count": 73,
     "metadata": {},
     "output_type": "execute_result"
    }
   ],
   "source": [
    "probs = 1 / (1 + np.exp(-np.array(sample_result_lstm.item())))\n",
    "probs"
   ]
  },
  {
   "cell_type": "code",
   "execution_count": 74,
   "id": "41f62525",
   "metadata": {},
   "outputs": [
    {
     "data": {
      "text/plain": [
       "torch.Size([901, 44])"
      ]
     },
     "execution_count": 74,
     "metadata": {},
     "output_type": "execute_result"
    }
   ],
   "source": [
    "sample_csv = getKeypoints('./pose_results_3fps2.csv')\n",
    "sample_csv.shape"
   ]
  },
  {
   "cell_type": "code",
   "execution_count": 75,
   "id": "a048b738",
   "metadata": {},
   "outputs": [
    {
     "data": {
      "text/plain": [
       "0.9962735074971727"
      ]
     },
     "execution_count": 75,
     "metadata": {},
     "output_type": "execute_result"
    }
   ],
   "source": [
    "sample_result_lstm = lstm(sample_csv.unsqueeze(dim=0).to(device))\n",
    "probs = 1 / (1 + np.exp(-np.array(sample_result_lstm.item())))\n",
    "1 - probs"
   ]
  },
  {
   "cell_type": "code",
   "execution_count": 76,
   "id": "914a13c6",
   "metadata": {},
   "outputs": [
    {
     "data": {
      "image/png": "[encoded data removed]",
      "text/plain": [
       "<Figure size 700x700 with 1 Axes>"
      ]
     },
     "metadata": {},
     "output_type": "display_data"
    }
   ],
   "source": [
    "plt.figure(figsize=(7,7))\n",
    "plt.plot(history['train_loss'])\n",
    "plt.plot(history['val_loss'])\n",
    "plt.legend(['train', 'vallidation'], fontsize=12)\n",
    "plt.xticks(fontsize=12)\n",
    "plt.yticks(fontsize=12)\n",
    "plt.grid(alpha=0.3)\n",
    "plt.show()"
   ]
  },
  {
   "cell_type": "code",
   "execution_count": 77,
   "id": "9a0a3274",
   "metadata": {},
   "outputs": [
    {
     "data": {
      "image/png": "[encoded data removed]",
      "text/plain": [
       "<Figure size 700x700 with 1 Axes>"
      ]
     },
     "metadata": {},
     "output_type": "display_data"
    }
   ],
   "source": [
    "plt.figure(figsize=(7,7))\n",
    "plt.plot(history['train_accuracy'])\n",
    "plt.plot(history['val_accuracy'])\n",
    "plt.title('')\n",
    "plt.legend(['Train', 'Vallidation'], fontsize=12)\n",
    "plt.xticks(fontsize=12)\n",
    "plt.yticks(fontsize=12)\n",
    "plt.grid(alpha=0.3)\n",
    "plt.show()"
   ]
  },
  {
   "cell_type": "code",
   "execution_count": null,
   "id": "3a9be682",
   "metadata": {},
   "outputs": [],
   "source": []
  }
 ],
 "metadata": {
  "kernelspec": {
   "display_name": "won",
   "language": "python",
   "name": "python3"
  },
  "language_info": {
   "codemirror_mode": {
    "name": "ipython",
    "version": 3
   },
   "file_extension": ".py",
   "mimetype": "text/x-python",
   "name": "python",
   "nbconvert_exporter": "python",
   "pygments_lexer": "ipython3",
   "version": "3.9.21"
  }
 },
 "nbformat": 4,
 "nbformat_minor": 5
}
